{
  "nbformat": 4,
  "nbformat_minor": 0,
  "metadata": {
    "accelerator": "TPU",
    "colab": {
      "name": "factorizationmachines.ipynb",
      "provenance": [],
      "collapsed_sections": []
    },
    "kernelspec": {
      "display_name": "Python 3",
      "name": "python3"
    },
    "language_info": {
      "name": "python"
    }
  },
  "cells": [
    {
      "cell_type": "code",
      "metadata": {
        "colab": {
          "base_uri": "https://localhost:8080/"
        },
        "id": "4IrBU3kqYnwY",
        "outputId": "26f4ee44-94ab-47b2-ddbc-16207cc53e26"
      },
      "source": [
        "from google.colab import drive\n",
        "drive.mount('/content/gdrive')"
      ],
      "execution_count": null,
      "outputs": [
        {
          "output_type": "stream",
          "text": [
            "Drive already mounted at /content/gdrive; to attempt to forcibly remount, call drive.mount(\"/content/gdrive\", force_remount=True).\n"
          ],
          "name": "stdout"
        }
      ]
    },
    {
      "cell_type": "code",
      "metadata": {
        "id": "YiDIq4NFZLJR"
      },
      "source": [
        "import pandas as pd\n",
        "data = pd.read_csv('/content/gdrive/My Drive/Colab Notebooks/data1.csv',names=['movie', 'user','rating','date'],nrows=100000)"
      ],
      "execution_count": null,
      "outputs": []
    },
    {
      "cell_type": "code",
      "metadata": {
        "colab": {
          "base_uri": "https://localhost:8080/"
        },
        "id": "IxaHOOXaZV2B",
        "outputId": "6a167f0c-d7a5-4a29-ab77-3f5d5f8ad2b3"
      },
      "source": [
        "data.shape"
      ],
      "execution_count": null,
      "outputs": [
        {
          "output_type": "execute_result",
          "data": {
            "text/plain": [
              "(100000, 4)"
            ]
          },
          "metadata": {
            "tags": []
          },
          "execution_count": 41
        }
      ]
    },
    {
      "cell_type": "code",
      "metadata": {
        "colab": {
          "base_uri": "https://localhost:8080/",
          "height": 204
        },
        "id": "A6sUEsbaZaxw",
        "outputId": "93ce2c71-fbb3-43be-8225-5b97021d5a3a"
      },
      "source": [
        "data.head()"
      ],
      "execution_count": null,
      "outputs": [
        {
          "output_type": "execute_result",
          "data": {
            "text/html": [
              "<div>\n",
              "<style scoped>\n",
              "    .dataframe tbody tr th:only-of-type {\n",
              "        vertical-align: middle;\n",
              "    }\n",
              "\n",
              "    .dataframe tbody tr th {\n",
              "        vertical-align: top;\n",
              "    }\n",
              "\n",
              "    .dataframe thead th {\n",
              "        text-align: right;\n",
              "    }\n",
              "</style>\n",
              "<table border=\"1\" class=\"dataframe\">\n",
              "  <thead>\n",
              "    <tr style=\"text-align: right;\">\n",
              "      <th></th>\n",
              "      <th>movie</th>\n",
              "      <th>user</th>\n",
              "      <th>rating</th>\n",
              "      <th>date</th>\n",
              "    </tr>\n",
              "  </thead>\n",
              "  <tbody>\n",
              "    <tr>\n",
              "      <th>0</th>\n",
              "      <td>1</td>\n",
              "      <td>1488844</td>\n",
              "      <td>3</td>\n",
              "      <td>2005-09-06</td>\n",
              "    </tr>\n",
              "    <tr>\n",
              "      <th>1</th>\n",
              "      <td>1</td>\n",
              "      <td>822109</td>\n",
              "      <td>5</td>\n",
              "      <td>2005-05-13</td>\n",
              "    </tr>\n",
              "    <tr>\n",
              "      <th>2</th>\n",
              "      <td>1</td>\n",
              "      <td>885013</td>\n",
              "      <td>4</td>\n",
              "      <td>2005-10-19</td>\n",
              "    </tr>\n",
              "    <tr>\n",
              "      <th>3</th>\n",
              "      <td>1</td>\n",
              "      <td>30878</td>\n",
              "      <td>4</td>\n",
              "      <td>2005-12-26</td>\n",
              "    </tr>\n",
              "    <tr>\n",
              "      <th>4</th>\n",
              "      <td>1</td>\n",
              "      <td>823519</td>\n",
              "      <td>3</td>\n",
              "      <td>2004-05-03</td>\n",
              "    </tr>\n",
              "  </tbody>\n",
              "</table>\n",
              "</div>"
            ],
            "text/plain": [
              "   movie     user  rating        date\n",
              "0      1  1488844       3  2005-09-06\n",
              "1      1   822109       5  2005-05-13\n",
              "2      1   885013       4  2005-10-19\n",
              "3      1    30878       4  2005-12-26\n",
              "4      1   823519       3  2004-05-03"
            ]
          },
          "metadata": {
            "tags": []
          },
          "execution_count": 42
        }
      ]
    },
    {
      "cell_type": "code",
      "metadata": {
        "id": "zFci_lmYZrUR"
      },
      "source": [
        "import pandas as pd\n",
        "data.sort_values(by=['user','date'],ascending=True,inplace=True)"
      ],
      "execution_count": null,
      "outputs": []
    },
    {
      "cell_type": "code",
      "metadata": {
        "id": "iaeQ_iCYc0Fa"
      },
      "source": [
        "data['last_movie_rating'] = data.groupby(['user'],sort=False)['rating'].shift()"
      ],
      "execution_count": null,
      "outputs": []
    },
    {
      "cell_type": "code",
      "metadata": {
        "id": "FY0mf95Ec8ST"
      },
      "source": [
        "data['last_movie_watched'] = data.groupby(['user'],sort=False)['movie'].shift()"
      ],
      "execution_count": null,
      "outputs": []
    },
    {
      "cell_type": "code",
      "metadata": {
        "id": "glmsKKZ-c-Z6"
      },
      "source": [
        "data.fillna(0,inplace=True)"
      ],
      "execution_count": null,
      "outputs": []
    },
    {
      "cell_type": "code",
      "metadata": {
        "colab": {
          "base_uri": "https://localhost:8080/",
          "height": 204
        },
        "id": "bpickDmndEaP",
        "outputId": "eda7fd36-ab65-4d23-f251-02b8b399612f"
      },
      "source": [
        "\n",
        "data.head()"
      ],
      "execution_count": null,
      "outputs": [
        {
          "output_type": "execute_result",
          "data": {
            "text/html": [
              "<div>\n",
              "<style scoped>\n",
              "    .dataframe tbody tr th:only-of-type {\n",
              "        vertical-align: middle;\n",
              "    }\n",
              "\n",
              "    .dataframe tbody tr th {\n",
              "        vertical-align: top;\n",
              "    }\n",
              "\n",
              "    .dataframe thead th {\n",
              "        text-align: right;\n",
              "    }\n",
              "</style>\n",
              "<table border=\"1\" class=\"dataframe\">\n",
              "  <thead>\n",
              "    <tr style=\"text-align: right;\">\n",
              "      <th></th>\n",
              "      <th>movie</th>\n",
              "      <th>user</th>\n",
              "      <th>rating</th>\n",
              "      <th>date</th>\n",
              "      <th>last_movie_rating</th>\n",
              "      <th>last_movie_watched</th>\n",
              "    </tr>\n",
              "  </thead>\n",
              "  <tbody>\n",
              "    <tr>\n",
              "      <th>72295</th>\n",
              "      <td>28</td>\n",
              "      <td>7</td>\n",
              "      <td>4</td>\n",
              "      <td>2005-05-23</td>\n",
              "      <td>0.0</td>\n",
              "      <td>0.0</td>\n",
              "    </tr>\n",
              "    <tr>\n",
              "      <th>12541</th>\n",
              "      <td>8</td>\n",
              "      <td>7</td>\n",
              "      <td>5</td>\n",
              "      <td>2005-07-30</td>\n",
              "      <td>4.0</td>\n",
              "      <td>28.0</td>\n",
              "    </tr>\n",
              "    <tr>\n",
              "      <th>77793</th>\n",
              "      <td>28</td>\n",
              "      <td>134</td>\n",
              "      <td>5</td>\n",
              "      <td>2004-11-09</td>\n",
              "      <td>0.0</td>\n",
              "      <td>0.0</td>\n",
              "    </tr>\n",
              "    <tr>\n",
              "      <th>69061</th>\n",
              "      <td>28</td>\n",
              "      <td>201</td>\n",
              "      <td>4</td>\n",
              "      <td>2003-01-23</td>\n",
              "      <td>0.0</td>\n",
              "      <td>0.0</td>\n",
              "    </tr>\n",
              "    <tr>\n",
              "      <th>93726</th>\n",
              "      <td>30</td>\n",
              "      <td>261</td>\n",
              "      <td>4</td>\n",
              "      <td>2004-09-21</td>\n",
              "      <td>0.0</td>\n",
              "      <td>0.0</td>\n",
              "    </tr>\n",
              "  </tbody>\n",
              "</table>\n",
              "</div>"
            ],
            "text/plain": [
              "       movie  user  rating        date  last_movie_rating  last_movie_watched\n",
              "72295     28     7       4  2005-05-23                0.0                 0.0\n",
              "12541      8     7       5  2005-07-30                4.0                28.0\n",
              "77793     28   134       5  2004-11-09                0.0                 0.0\n",
              "69061     28   201       4  2003-01-23                0.0                 0.0\n",
              "93726     30   261       4  2004-09-21                0.0                 0.0"
            ]
          },
          "metadata": {
            "tags": []
          },
          "execution_count": 47
        }
      ]
    },
    {
      "cell_type": "code",
      "metadata": {
        "id": "Pb-axxGMfas9"
      },
      "source": [
        "y= data['rating'].values\n"
      ],
      "execution_count": null,
      "outputs": []
    },
    {
      "cell_type": "code",
      "metadata": {
        "id": "em8DosvkLfqS"
      },
      "source": [
        "from sklearn.preprocessing import OneHotEncoder\n",
        "from sklearn.feature_extraction.text import CountVectorizer\n",
        "model= OneHotEncoder(handle_unknown=\"ignore\")\n",
        "#model= OneHotEncoder()\n",
        "model1= OneHotEncoder()\n",
        "x_train = model.fit_transform(data[0:80000][['user',\"movie\"]])"
      ],
      "execution_count": null,
      "outputs": []
    },
    {
      "cell_type": "code",
      "metadata": {
        "colab": {
          "base_uri": "https://localhost:8080/"
        },
        "id": "am5kImrkNy7r",
        "outputId": "b6c70916-b907-4ffd-a497-a830a22de2c8"
      },
      "source": [
        "x_train.shape"
      ],
      "execution_count": null,
      "outputs": [
        {
          "output_type": "execute_result",
          "data": {
            "text/plain": [
              "(80000, 65283)"
            ]
          },
          "metadata": {
            "tags": []
          },
          "execution_count": 81
        }
      ]
    },
    {
      "cell_type": "code",
      "metadata": {
        "id": "FpVAoVIgTJkL"
      },
      "source": [
        "x_test = model.transform(data[80000:][['user',\"movie\"]])"
      ],
      "execution_count": null,
      "outputs": []
    },
    {
      "cell_type": "code",
      "metadata": {
        "colab": {
          "base_uri": "https://localhost:8080/"
        },
        "id": "WOjUE8L4UCYX",
        "outputId": "cc008e57-a317-4d14-c8a6-098bcc87970e"
      },
      "source": [
        "x_test.shape"
      ],
      "execution_count": null,
      "outputs": [
        {
          "output_type": "execute_result",
          "data": {
            "text/plain": [
              "(20000, 65283)"
            ]
          },
          "metadata": {
            "tags": []
          },
          "execution_count": 86
        }
      ]
    },
    {
      "cell_type": "code",
      "metadata": {
        "colab": {
          "base_uri": "https://localhost:8080/"
        },
        "id": "8q4ttILjj2kS",
        "outputId": "819d6771-9280-435a-8db4-4c46d7bc5ea6"
      },
      "source": [
        "#from fastFM2.datasets import make_user_item_regression\n",
        "import scipy.sparse as sp\n",
        "from fastfm2 import als\n",
        "import fastfm2\n",
        "n_iter = 10000\n",
        "rank = 50\n",
        "seed = 333\n",
        "step_size = 1\n",
        "l2_reg_w = 0.001\n",
        "l2_reg_V = 0.001\n",
        "\n",
        "fm = fastfm2.als.FMRegression(n_iter=1000, l2_reg_w=l2_reg_w,\n",
        "            l2_reg_V=l2_reg_V, rank=rank, random_state=seed)\n",
        "    # initalize coefs\n",
        "fm.fit(sp.csc_matrix(x_train),y[0:80000])\n",
        "#(sp.csc_matrix(x_train),y)"
      ],
      "execution_count": null,
      "outputs": [
        {
          "output_type": "execute_result",
          "data": {
            "text/plain": [
              "FMRegression(init_stdev=0.1, l2_reg=0, l2_reg_V=0.001, l2_reg_w=0.001,\n",
              "             n_iter=1000, random_state=333, rank=50)"
            ]
          },
          "metadata": {
            "tags": []
          },
          "execution_count": 91
        }
      ]
    },
    {
      "cell_type": "code",
      "metadata": {
        "colab": {
          "base_uri": "https://localhost:8080/"
        },
        "id": "eVqQQwU_kVLJ",
        "outputId": "0261216f-3600-4a18-e6b6-7c564744625e"
      },
      "source": [
        "from sklearn.metrics import mean_squared_error\n",
        "import numpy as np\n",
        "pred = fm.predict(sp.csc_matrix(x_train))\n",
        "print(\"train mse\",mean_squared_error(pred, y[0:80000]))\n",
        "print(\"train rmse\",np.sqrt(mean_squared_error(pred, y[0:80000])))"
      ],
      "execution_count": null,
      "outputs": [
        {
          "output_type": "stream",
          "text": [
            "train mse 3.363904185297393e-10\n",
            "train rmse 1.8340949226518765e-05\n"
          ],
          "name": "stdout"
        }
      ]
    },
    {
      "cell_type": "markdown",
      "metadata": {
        "id": "_PuhAubQI77o"
      },
      "source": [
        ""
      ]
    },
    {
      "cell_type": "code",
      "metadata": {
        "colab": {
          "base_uri": "https://localhost:8080/"
        },
        "id": "-lT09MMzofnu",
        "outputId": "8c12dbd0-7699-497a-c640-1a4f6abdc714"
      },
      "source": [
        "pred = fm.predict(sp.csc_matrix(x_test))\n",
        "print(\"train mse\",mean_squared_error(pred, y[80000:]))\n",
        "print(\"train rmse\",np.sqrt(mean_squared_error(pred, y[80000:])))"
      ],
      "execution_count": null,
      "outputs": [
        {
          "output_type": "stream",
          "text": [
            "train mse 1.1302572932831536\n",
            "train rmse 1.063135594965738\n"
          ],
          "name": "stdout"
        }
      ]
    },
    {
      "cell_type": "code",
      "metadata": {
        "id": "1U9K8bKXoluX"
      },
      "source": [
        ""
      ],
      "execution_count": null,
      "outputs": []
    }
  ]
}